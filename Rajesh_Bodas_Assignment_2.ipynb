{
  "cells": [
    {
      "cell_type": "markdown",
      "metadata": {
        "id": "view-in-github",
        "colab_type": "text"
      },
      "source": [
        "<a href=\"https://colab.research.google.com/github/RichardRajesh/5731-Computational-methods/blob/main/Rajesh_Bodas_Assignment_2.ipynb\" target=\"_parent\"><img src=\"https://colab.research.google.com/assets/colab-badge.svg\" alt=\"Open In Colab\"/></a>"
      ]
    },
    {
      "cell_type": "markdown",
      "metadata": {
        "id": "Ryk8D1Q4Wsrp"
      },
      "source": [
        "# **INFO5731 Assignment 2**\n",
        "\n",
        "In this assignment, you will work on gathering text data from an open data source via web scraping or API. Following this, you will need to clean the text data and perform syntactic analysis on the data. Follow the instructions carefully and design well-structured Python programs to address each question.\n",
        "\n",
        "**Expectations**:\n",
        "*   Use the provided .*ipynb* document to write your code & respond to the questions. Avoid generating a new file.\n",
        "*   Write complete answers and run all the cells before submission.\n",
        "*   Make sure the submission is \"clean\"; *i.e.*, no unnecessary code cells.\n",
        "*   Once finished, allow shared rights from top right corner (*see Canvas for details*).\n",
        "\n",
        "* **Make sure to submit the cleaned data CSV in the comment section - 10 points**\n",
        "\n",
        "**Total points**: 100\n",
        "\n",
        "**Deadline**: Wednesday, at 11:59 PM.\n",
        "\n",
        "**Late Submission will have a penalty of 10% reduction for each day after the deadline.**\n"
      ]
    },
    {
      "cell_type": "markdown",
      "metadata": {
        "id": "JkzR8cFAyGik"
      },
      "source": [
        "# Question 1 (40 points)\n",
        "\n",
        "Write a python program to collect text data from **either of the following sources** and save the data into a **csv file:**\n",
        "\n",
        "(1) Collect all the customer reviews of a product (you can choose any porduct) on amazon. [atleast 1000 reviews]\n",
        "\n",
        "(2) Collect the top 1000 User Reviews of a movie recently in 2023 or 2024 (you can choose any movie) from IMDB. [If one movie doesn't have sufficient reviews, collect reviews of atleast 2 or 3 movies]\n",
        "\n",
        "(3) Collect all the reviews of the top 1000 most popular software from G2 or Capterra.\n",
        "\n",
        "(4) Collect the **abstracts** of the top 10000 research papers by using the query \"machine learning\", \"data science\", \"artifical intelligence\", or \"information extraction\" from Semantic Scholar.\n",
        "\n",
        "(5) Collect all the information of the 904 narrators in the Densho Digital Repository.\n"
      ]
    },
    {
      "cell_type": "code",
      "source": [
        "!pip install requests\n",
        "!pip install beautifulsoup4"
      ],
      "metadata": {
        "colab": {
          "base_uri": "https://localhost:8080/"
        },
        "id": "RWLqayKIz9pl",
        "outputId": "c0457a9f-955d-489d-9eef-01afa5471952"
      },
      "execution_count": null,
      "outputs": [
        {
          "output_type": "stream",
          "name": "stdout",
          "text": [
            "Requirement already satisfied: requests in /usr/local/lib/python3.10/dist-packages (2.31.0)\n",
            "Requirement already satisfied: charset-normalizer<4,>=2 in /usr/local/lib/python3.10/dist-packages (from requests) (3.3.2)\n",
            "Requirement already satisfied: idna<4,>=2.5 in /usr/local/lib/python3.10/dist-packages (from requests) (3.6)\n",
            "Requirement already satisfied: urllib3<3,>=1.21.1 in /usr/local/lib/python3.10/dist-packages (from requests) (2.0.7)\n",
            "Requirement already satisfied: certifi>=2017.4.17 in /usr/local/lib/python3.10/dist-packages (from requests) (2024.2.2)\n",
            "Requirement already satisfied: beautifulsoup4 in /usr/local/lib/python3.10/dist-packages (4.12.3)\n",
            "Requirement already satisfied: soupsieve>1.2 in /usr/local/lib/python3.10/dist-packages (from beautifulsoup4) (2.5)\n"
          ]
        }
      ]
    },
    {
      "cell_type": "code",
      "source": [
        "import requests\n",
        "import csv\n",
        "from bs4 import BeautifulSoup\n",
        "\n",
        "def Movie_Reviews(movieUrls, No_Reviews, outputDataFile):\n",
        "    movieReviewsData = []\n",
        "    countOfReviews = 0\n",
        "\n",
        "    for movieUrl in movieUrls:\n",
        "        webPageNum = 1\n",
        "\n",
        "        while countOfReviews < No_Reviews:\n",
        "            webpageUrl = f\"{movieUrl}&page={webPageNum}\"\n",
        "\n",
        "            webResponse = requests.get(webpageUrl)\n",
        "            if webResponse.status_code != 200:\n",
        "                print(f\"Failed to retrieve page data {webPageNum} from {movieUrl}. Exiting.\")\n",
        "                break\n",
        "\n",
        "            soupData = BeautifulSoup(webResponse.text, 'html.parser')\n",
        "            containersReviews = soupData.find_all('div', class_='lister-item-content')\n",
        "\n",
        "            if not containersReviews:\n",
        "                print(f\"No reviews were found on page {webPageNum} from {movieUrl}. Exiting.\")\n",
        "                break\n",
        "\n",
        "            for reviewContent in containersReviews:\n",
        "                reviewText = reviewContent.find('div', class_='text').get_text()\n",
        "                reviewUsername = reviewContent.find('span', class_='display-name-link').get_text()\n",
        "                reviewPostedDate = reviewContent.find('span', class_='review-date').get_text()\n",
        "\n",
        "                movieReviewsData.append([reviewUsername, reviewPostedDate, reviewText])\n",
        "                countOfReviews += 1\n",
        "\n",
        "                if countOfReviews >= No_Reviews:\n",
        "                    break\n",
        "\n",
        "            webPageNum += 1\n",
        "\n",
        "    if movieReviewsData:\n",
        "        with open(outputDataFile, 'w', newline='', encoding='utf-8') as csvFile:\n",
        "            csvWriter = csv.writer(csvFile)\n",
        "            csvWriter.writerow(['Username', 'Review Date', 'Review Text'])  # Header\n",
        "            csvWriter.writerows(movieReviewsData)\n",
        "\n",
        "        print(f\"{len(movieReviewsData)}Movie reviews have been successfully scraped from the website and saved to '{outputDataFile}'.\")\n",
        "    else:\n",
        "        print(\"No reviews were found on the pages.\")\n",
        "\n",
        "if __name__ == \"__main__\":\n",
        "    movieUrls = [\n",
        "        'https://www.imdb.com/title/tt23289160/reviews/?ref_=tt_ov_rt',\n",
        "        'https://www.imdb.com/title/tt23849204/reviews/?ref_=tt_ov_rt'\n",
        "    ]\n",
        "    No_Reviews = 1000\n",
        "    outputDataFile = 'combined_movie_reviews.csv'\n",
        "\n",
        "    Movie_Reviews(movieUrls, No_Reviews, outputDataFile)"
      ],
      "metadata": {
        "colab": {
          "base_uri": "https://localhost:8080/"
        },
        "id": "aOvKERCh0qGZ",
        "outputId": "35fd0e5a-63fb-42f5-ffcf-9d2dadd1483a"
      },
      "execution_count": null,
      "outputs": [
        {
          "output_type": "stream",
          "name": "stdout",
          "text": [
            "1000Movie reviews have been successfully scraped from the website and saved to 'combined_movie_reviews.csv'.\n"
          ]
        }
      ]
    },
    {
      "cell_type": "markdown",
      "metadata": {
        "id": "90_NR8c5XGWc"
      },
      "source": [
        "# Question 2 (30 points)\n",
        "\n",
        "Write a python program to **clean the text data** you collected in the previous question and save the clean data in a new column in the csv file. The data cleaning steps include: [Code and output is required for each part]\n",
        "\n",
        "(1) Remove noise, such as special characters and punctuations.\n",
        "\n",
        "(2) Remove numbers.\n",
        "\n",
        "(3) Remove stopwords by using the stopwords list.\n",
        "\n",
        "(4) Lowercase all texts\n",
        "\n",
        "(5) Stemming.\n",
        "\n",
        "(6) Lemmatization."
      ]
    },
    {
      "cell_type": "code",
      "source": [
        "import re\n",
        "import nltk\n",
        "from nltk.corpus import stopwords\n",
        "from nltk.stem import PorterStemmer, WordNetLemmatizer\n",
        "\n"
      ],
      "metadata": {
        "id": "LM2X0HnV6A3t"
      },
      "execution_count": null,
      "outputs": []
    },
    {
      "cell_type": "code",
      "source": [
        "\n",
        "nltk.download('stopwords')\n",
        "nltk.download('wordnet')\n",
        "\n",
        "def Clean_Text(text):\n",
        "    text = re.sub(r'[^a-zA-Z\\s]', '', text)\n",
        "    text = re.sub(r'\\d+', '', text)\n",
        "\n",
        "    # Remove stopwords\n",
        "    stopWords = set(stopwords.words('english'))\n",
        "    words = text.split()\n",
        "    filteredText = [word for word in words if word.lower() not in stopWords]\n",
        "    text = ' '.join(filteredText)\n",
        "    text = text.lower()\n",
        "\n",
        "    # Stemming\n",
        "    stemmer = PorterStemmer()\n",
        "    stemmedText = [stemmer.stem(word) for word in text.split()]\n",
        "    text = ' '.join(stemmedText)\n",
        "\n",
        "    # Lemmatization\n",
        "    lemmatizer = WordNetLemmatizer()\n",
        "    lemmatizedText = [lemmatizer.lemmatize(word) for word in text.split()]\n",
        "    text = ' '.join(lemmatizedText)\n",
        "\n",
        "    return text\n",
        "\n",
        "def Clean_And_Save_Reviews(inputCsvFile, outputCsvFile):\n",
        "    with open(inputCsvFile, 'r', encoding='utf-8') as inFile:\n",
        "        reader = csv.reader(inFile)\n",
        "        header = next(reader)\n",
        "        header.append('Clean Text')\n",
        "\n",
        "        rows = []\n",
        "        for row in reader:\n",
        "            reviewText = row[2]\n",
        "            cleanTextReview = Clean_Text(reviewText)\n",
        "            row.append(cleanTextReview)\n",
        "            rows.append(row)\n",
        "\n",
        "\n",
        "    with open(outputCsvFile, 'w', newline='', encoding='utf-8') as outFile:\n",
        "        writer = csv.writer(outFile)\n",
        "        writer.writerow(header)\n",
        "        writer.writerows(rows)\n",
        "\n",
        "if __name__ == \"__main__\":\n",
        "    inputCsvFile = 'combined_movie_reviews.csv'\n",
        "    outputCsvFile = 'cleaned_movie_reviews.csv'\n",
        "\n",
        "    Clean_And_Save_Reviews(inputCsvFile, outputCsvFile)\n"
      ],
      "metadata": {
        "colab": {
          "base_uri": "https://localhost:8080/"
        },
        "id": "2pKsEUW01SuE",
        "outputId": "4b7342f1-039d-4de0-bd4e-c45c18e76d09"
      },
      "execution_count": null,
      "outputs": [
        {
          "output_type": "stream",
          "name": "stderr",
          "text": [
            "[nltk_data] Downloading package stopwords to /root/nltk_data...\n",
            "[nltk_data]   Package stopwords is already up-to-date!\n",
            "[nltk_data] Downloading package wordnet to /root/nltk_data...\n",
            "[nltk_data]   Package wordnet is already up-to-date!\n"
          ]
        }
      ]
    },
    {
      "cell_type": "code",
      "source": [
        "nltk.download('stopwords')\n",
        "nltk.download('wordnet')\n",
        "\n",
        "def Clean_Text(Text_Data):\n",
        "    Text_Data = re.sub(r'[^a-zA-Z\\s]', '', Text_Data)\n",
        "    Text_Data = re.sub(r'\\d+', '', Text_Data)\n",
        "    # Remove stopwords\n",
        "    Stop_Words = set(stopwords.words('english'))\n",
        "    Words_Data = Text_Data.split()\n",
        "    Filtered_Text_Data = [word for word in Words_Data if word.lower() not in Stop_Words]\n",
        "    Text_Data = ' '.join(Filtered_Text_Data)\n",
        "\n",
        "    # Lowercase all texts\n",
        "    Text_Data = Text_Data.lower()\n",
        "\n",
        "    # Stemming\n",
        "    Stemmer = PorterStemmer()\n",
        "    Stemmed_Text_Data = [Stemmer.stem(word) for word in Text_Data.split()]\n",
        "    Text_Data = ' '.join(Stemmed_Text_Data)\n",
        "\n",
        "    # Lemmatization\n",
        "    Lemmatizer = WordNetLemmatizer()\n",
        "    Lemmatized_Text_Data = [Lemmatizer.lemmatize(word) for word in Text_Data.split()]\n",
        "    Text_Data = ' '.join(Lemmatized_Text_Data)\n",
        "\n",
        "    return Text_Data\n",
        "\n",
        "def Clean_And_Save_Reviews(Input_Text_File, Output_Text_File):\n",
        "    with open(Input_Text_File, 'r', encoding='utf-8') as InputFile:\n",
        "        Reader = csv.reader(InputFile)\n",
        "        Read_Header = next(Reader)  # Read the header\n",
        "\n",
        "        # Append 'Clean Text' to the header\n",
        "        Read_Header.append('Clean Text')\n",
        "\n",
        "        Rows = []\n",
        "        for Line in Reader:\n",
        "            Review_Text = Line[2]  # Assuming the review text is in the third column\n",
        "            Cleaned_Text_Review = Clean_Text(Review_Text)\n",
        "            Line.append(Cleaned_Text_Review)\n",
        "            Rows.append(Line)\n",
        "\n",
        "    # Write the cleaned data to a new CSV file\n",
        "    with open(Output_Text_File, 'w', newline='', encoding='utf-8') as OutputFile:\n",
        "        NewFileWriter = csv.writer(OutputFile)\n",
        "        NewFileWriter.writerow(Read_Header)  # Write the header\n",
        "        NewFileWriter.writerows(Rows)\n",
        "\n",
        "    print(f\"Cleaned data is stored into '{Output_Text_File}'.\")\n",
        "\n",
        "if __name__ == \"__main__\":\n",
        "    Input_Text_File = 'combined_movie_reviews.csv'\n",
        "    Output_Text_File = 'cleaned_movie_reviews.csv'\n",
        "\n",
        "    Clean_And_Save_Reviews(Input_Text_File, Output_Text_File)\n"
      ],
      "metadata": {
        "colab": {
          "base_uri": "https://localhost:8080/"
        },
        "id": "yRScVM4R7v9_",
        "outputId": "a8eda045-d943-42ca-fa9d-bd57a32e34c6"
      },
      "execution_count": null,
      "outputs": [
        {
          "output_type": "stream",
          "name": "stderr",
          "text": [
            "[nltk_data] Downloading package stopwords to /root/nltk_data...\n",
            "[nltk_data]   Package stopwords is already up-to-date!\n",
            "[nltk_data] Downloading package wordnet to /root/nltk_data...\n",
            "[nltk_data]   Package wordnet is already up-to-date!\n"
          ]
        },
        {
          "output_type": "stream",
          "name": "stdout",
          "text": [
            "Cleaned data is stored into 'cleaned_movie_reviews.csv'.\n"
          ]
        }
      ]
    },
    {
      "cell_type": "markdown",
      "metadata": {
        "id": "1F_PZdH9Sh49"
      },
      "source": [
        "# Question 3 (30 points)\n",
        "\n",
        "Write a python program to **conduct syntax and structure analysis of the clean text** you just saved above. The syntax and structure analysis includes:\n",
        "\n",
        "(1) **Parts of Speech (POS) Tagging:** Tag Parts of Speech of each word in the text, and calculate the total number of N(oun), V(erb), Adj(ective), Adv(erb), respectively.\n",
        "\n",
        "(2) **Constituency Parsing and Dependency Parsing:** print out the constituency parsing trees and dependency parsing trees of all the sentences. Using one sentence as an example to explain your understanding about the constituency parsing tree and dependency parsing tree.\n",
        "\n",
        "(3) **Named Entity Recognition:** Extract all the entities such as person names, organizations, locations, product names, and date from the clean texts, calculate the count of each entity."
      ]
    },
    {
      "cell_type": "code",
      "source": [
        "import pandas as pd\n",
        "import spacy\n",
        "\n",
        "# Load the English language model\n",
        "nlp = spacy.load(\"en_core_web_sm\")\n",
        "\n",
        "def cleaned_and_saved_reviewed(input_file, output_file):\n",
        "    # Your cleaning and saving function here\n",
        "    pass\n",
        "\n",
        "if __name__ == \"__main__\":\n",
        "    input_text_data = 'combined_movie_reviews.csv'\n",
        "    output_text_data = 'cleaned_movie_reviews.csv'\n",
        "\n",
        "    # Clean and save the reviewed data\n",
        "    cleaned_and_saved_reviewed(input_text_data, output_text_data)\n",
        "\n",
        "    # Read the cleaned text data\n",
        "    df = pd.read_csv(output_text_data)\n",
        "\n",
        "    # (1) Parts of Speech (POS) Tagging\n",
        "    noun_count = 0\n",
        "    verb_count = 0\n",
        "    adj_count = 0\n",
        "    adv_count = 0\n",
        "\n",
        "    for text_data in df['Clean Text']:\n",
        "        doc = nlp(text_data)\n",
        "        for token in doc:\n",
        "            if token.pos_ == \"NOUN\":\n",
        "                noun_count += 1\n",
        "            elif token.pos_ == \"VERB\":\n",
        "                verb_count += 1\n",
        "            elif token.pos_ == \"ADJ\":\n",
        "                adj_count += 1\n",
        "            elif token.pos_ == \"ADV\":\n",
        "                adv_count += 1\n",
        "\n",
        "    print(f\"Noun Count: {noun_count}\")\n",
        "    print(f\"Verb Count: {verb_count}\")\n",
        "    print(f\"Adjective Count: {adj_count}\")\n",
        "    print(f\"Adverb Count: {adv_count}\")\n",
        "\n",
        "    # (2) Constituency Parsing and Dependency Parsing (using one sentence as an example)\n",
        "    sample_text = df['Clean Text'].iloc[0]  # Take the first sentence as an example\n",
        "\n",
        "    # Constituency Parsing Tree\n",
        "    sample_doc = nlp(sample_text)\n",
        "    print(\"\\nConstituency Parsing Tree:\")\n",
        "    for token in sample_doc:\n",
        "        print(f\"{token.text} [{token.dep_}]\", end=\" -> \")\n",
        "    print()\n",
        "\n",
        "    # Dependency Parsing Tree\n",
        "    print(\"\\nDependency Parsing Tree:\")\n",
        "    for token in sample_doc:\n",
        "        print(f\"{token.text} [{token.dep_}] -> {token.head.text}\", end=\", \")\n",
        "    print()\n",
        "\n",
        "    # (3) Named Entity Recognition\n",
        "    entity_counts = {\n",
        "        \"PERSON\": 0,\n",
        "        \"ORG\": 0,\n",
        "        \"LOC\": 0,\n",
        "        \"PRODUCT\": 0,\n",
        "        \"DATE\": 0\n",
        "    }\n",
        "\n",
        "    for text_data in df['Clean Text']:\n",
        "        doc = nlp(text_data)\n",
        "        for ent in doc.ents:\n",
        "            if ent.label_ in entity_counts:\n",
        "                entity_counts[ent.label_] += 1\n",
        "\n",
        "    print(\"\\nNamed Entity Counts:\")\n",
        "    for entity, count in entity_counts.items():\n",
        "        print(f\"{entity}: {count}\")\n"
      ],
      "metadata": {
        "colab": {
          "base_uri": "https://localhost:8080/"
        },
        "id": "hPeEIQZ7eeqT",
        "outputId": "7d60b6ad-7d50-486f-d5a5-25eeee05ed59"
      },
      "execution_count": null,
      "outputs": [
        {
          "output_type": "stream",
          "name": "stdout",
          "text": [
            "Noun Count: 52160\n",
            "Verb Count: 22240\n",
            "Adjective Count: 18480\n",
            "Adverb Count: 5040\n",
            "\n",
            "Constituency Parsing Tree:\n",
            "godzilla [nsubj] -> minu [nsubj] -> one [nummod] -> ryunosuk [dobj] -> kamiki [compound] -> minami [compound] -> hamab [compound] -> sakura [compound] -> ando [compound] -> yuki [compound] -> yamada [compound] -> kuranosuk [compound] -> sasak [compound] -> hidetaka [compound] -> yaoshioka [compound] -> yuya [compound] -> endo [compound] -> saki [nmod] -> nakatani [compound] -> director [npadvmod] -> takashi [compound] -> yamazaki [compound] -> herculean [compound] -> effort [compound] -> reviv [compound] -> kaiju [compound] -> franchis [compound] -> effortlessli [compound] -> awesom [nsubj] -> absolut [ccomp] -> toptier [compound] -> filmmak [compound] -> origin [compound] -> stori [nmod] -> gigant [amod] -> monster [compound] -> show [compound] -> shore [compound] -> post [dobj] -> wwii [compound] -> japan [compound] -> engag [compound] -> fulltilt [compound] -> invas [compound] -> tokyo [compound] -> environ [nsubj] -> atyp [compound] -> destruct [compound] -> death [nmod] -> key [amod] -> film [compound] -> strength [compound] -> plot [nsubj] -> involv [conj] -> exkamikaz [compound] -> pilot [compound] -> kamiki [dobj] -> suffer [ROOT] -> arguabl [amod] -> cinema [compound] -> poignant [nmod] -> ptsd [nmod] -> love [compound] -> interest [compound] -> hamab [compound] -> makeshift [nmod] -> famili [compound] -> attempt [compound] -> surviv [compound] -> thread [compound] -> palpabl [compound] -> redempt [compound] -> narr [amod] -> lace [compound] -> surprisingli [compound] -> heartfelt [compound] -> emot [nmod] -> clean [amod] -> visual [amod] -> fx [compound] -> propel [compound] -> radioact [compound] -> creatur [compound] -> jawdroppingli [compound] -> astound [dobj] -> neat [advcl] -> extra [amod] -> spini [nmod] -> back [advmod] -> ignit [nmod] -> recharg [nmod] -> nuclear [compound] -> energi [compound] -> eyepoppingli [dobj] -> epic [advmod] -> one [nummod] -> year [npadvmod] -> best [amod] -> film [npadvmod] -> \n",
            "\n",
            "Dependency Parsing Tree:\n",
            "godzilla [nsubj] -> minu, minu [nsubj] -> suffer, one [nummod] -> ryunosuk, ryunosuk [dobj] -> minu, kamiki [compound] -> sakura, minami [compound] -> sakura, hamab [compound] -> sakura, sakura [compound] -> hidetaka, ando [compound] -> hidetaka, yuki [compound] -> hidetaka, yamada [compound] -> hidetaka, kuranosuk [compound] -> hidetaka, sasak [compound] -> hidetaka, hidetaka [compound] -> yuya, yaoshioka [compound] -> yuya, yuya [compound] -> director, endo [compound] -> director, saki [nmod] -> director, nakatani [compound] -> director, director [npadvmod] -> minu, takashi [compound] -> herculean, yamazaki [compound] -> herculean, herculean [compound] -> effort, effort [compound] -> reviv, reviv [compound] -> awesom, kaiju [compound] -> awesom, franchis [compound] -> awesom, effortlessli [compound] -> awesom, awesom [nsubj] -> absolut, absolut [ccomp] -> minu, toptier [compound] -> origin, filmmak [compound] -> origin, origin [compound] -> stori, stori [nmod] -> post, gigant [amod] -> post, monster [compound] -> show, show [compound] -> shore, shore [compound] -> post, post [dobj] -> absolut, wwii [compound] -> invas, japan [compound] -> engag, engag [compound] -> invas, fulltilt [compound] -> invas, invas [compound] -> environ, tokyo [compound] -> environ, environ [nsubj] -> atyp, atyp [compound] -> plot, destruct [compound] -> death, death [nmod] -> plot, key [amod] -> plot, film [compound] -> strength, strength [compound] -> plot, plot [nsubj] -> involv, involv [conj] -> minu, exkamikaz [compound] -> pilot, pilot [compound] -> kamiki, kamiki [dobj] -> involv, suffer [ROOT] -> suffer, arguabl [amod] -> makeshift, cinema [compound] -> poignant, poignant [nmod] -> interest, ptsd [nmod] -> interest, love [compound] -> interest, interest [compound] -> makeshift, hamab [compound] -> makeshift, makeshift [nmod] -> attempt, famili [compound] -> attempt, attempt [compound] -> astound, surviv [compound] -> thread, thread [compound] -> redempt, palpabl [compound] -> redempt, redempt [compound] -> emot, narr [amod] -> lace, lace [compound] -> surprisingli, surprisingli [compound] -> emot, heartfelt [compound] -> emot, emot [nmod] -> jawdroppingli, clean [amod] -> jawdroppingli, visual [amod] -> jawdroppingli, fx [compound] -> jawdroppingli, propel [compound] -> radioact, radioact [compound] -> jawdroppingli, creatur [compound] -> jawdroppingli, jawdroppingli [compound] -> astound, astound [dobj] -> suffer, neat [advcl] -> suffer, extra [amod] -> spini, spini [nmod] -> ignit, back [advmod] -> spini, ignit [nmod] -> eyepoppingli, recharg [nmod] -> eyepoppingli, nuclear [compound] -> energi, energi [compound] -> eyepoppingli, eyepoppingli [dobj] -> neat, epic [advmod] -> suffer, one [nummod] -> year, year [npadvmod] -> best, best [amod] -> film, film [npadvmod] -> suffer, \n",
            "\n",
            "Named Entity Counts:\n",
            "PERSON: 2040\n",
            "ORG: 1920\n",
            "LOC: 0\n",
            "PRODUCT: 120\n",
            "DATE: 400\n"
          ]
        }
      ]
    },
    {
      "cell_type": "markdown",
      "source": [
        "**Constituency Parsing and Dependency Parsing:**\n",
        "\n",
        "While the dependency parsing tree shows the relationships as directed links between individual words, such as \"Godzilla\" being linked to \"minu\" through the relation \"suffer\" to illustrate their syntactic dependency, the constituency parsing tree structures the sentence hierarchically, indicating the relationships between different parts of speech. For example, \"Godzilla\" is the subject (\"nsubj\") and \"minu\" is the root."
      ],
      "metadata": {
        "id": "h8CW6P2jbCXT"
      }
    },
    {
      "cell_type": "markdown",
      "source": [
        "# Mandatory Question\n",
        "\n",
        "Provide your thoughts on the assignment. What did you find challenging, and what aspects did you enjoy? Your opinion on the provided time to complete the assignment."
      ],
      "metadata": {
        "id": "q8BFCvWp32cf"
      }
    },
    {
      "cell_type": "markdown",
      "source": [
        "Through the assignment i had few questions and challenges, but this was too hard for me to apply various NLP techniques as its my first time. In the data cleaning part i felt challenging, mainly when handling the stopwords and third question regarding the Constituency Parsing and Dependency Parsing was something new to me and it took time to understand. The time given for this assignment was good. overall, with this assignment I had a chchance in practicing with real-world text data was so good.\n"
      ],
      "metadata": {
        "id": "aJSKZKZVcXnS"
      }
    },
    {
      "cell_type": "markdown",
      "source": [],
      "metadata": {
        "id": "xBvgLxQAcQUm"
      }
    }
  ],
  "metadata": {
    "colab": {
      "provenance": [],
      "toc_visible": true,
      "include_colab_link": true
    },
    "kernelspec": {
      "display_name": "Python 3 (ipykernel)",
      "language": "python",
      "name": "python3"
    },
    "language_info": {
      "codemirror_mode": {
        "name": "ipython",
        "version": 3
      },
      "file_extension": ".py",
      "mimetype": "text/x-python",
      "name": "python",
      "nbconvert_exporter": "python",
      "pygments_lexer": "ipython3",
      "version": "3.9.12"
    }
  },
  "nbformat": 4,
  "nbformat_minor": 0
}