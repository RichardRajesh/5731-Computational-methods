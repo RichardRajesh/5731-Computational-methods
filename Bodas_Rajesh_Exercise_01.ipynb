{
  "cells": [
    {
      "cell_type": "markdown",
      "metadata": {
        "id": "view-in-github"
      },
      "source": [
        "<a href=\"https://colab.research.google.com/github/unt-iialab/INFO5731_Spring2020/blob/master/In_class_exercise/In_class_exercise_01.ipynb\" target=\"_parent\"><img src=\"https://colab.research.google.com/assets/colab-badge.svg\" alt=\"Open In Colab\"/></a>"
      ]
    },
    {
      "cell_type": "markdown",
      "metadata": {
        "id": "DymRJbxDBCnf"
      },
      "source": [
        "# **This first In-class-exercise cover a variety of fundamental concepts in Python and are designed to help individuals improve their coding skills and problem-solving abilities.**\n",
        "\n",
        "The submission is due on 01/31/2024 11:59 PM. This submission is worth 40 points in total.\n"
      ]
    },
    {
      "cell_type": "markdown",
      "source": [
        "(1) Write a Python program that  prompts the user to input the length and width of a rectangle, and then calculates and displays the area of the rectangle."
      ],
      "metadata": {
        "id": "FBKvD6O_TY6e"
      }
    },
    {
      "cell_type": "code",
      "source": [
        "# write your answer here\n",
        "Length_L = float(input(\"Length of the Rectangle: \"))\n",
        "width_W = float(input(\"width of the Rectangle: \",))\n",
        "AreaOfTheRectangle= Length_L * width_W\n",
        "print(AreaOfTheRectangle)\n"
      ],
      "metadata": {
        "id": "cikVKDXdTbzE",
        "colab": {
          "base_uri": "https://localhost:8080/"
        },
        "outputId": "ec18fc9c-2dbf-41a2-f429-82fb6cdf5299"
      },
      "execution_count": 90,
      "outputs": [
        {
          "output_type": "stream",
          "name": "stdout",
          "text": [
            "Length of the Rectangle: 2\n",
            "width of the Rectangle: 3\n",
            "6.0\n"
          ]
        }
      ]
    },
    {
      "cell_type": "markdown",
      "source": [
        "(2) Create a Python program that interactively takes two numerical inputs from the user and swaps their values without utilizing an extra variable."
      ],
      "metadata": {
        "id": "E9RqrlwdTfvl"
      }
    },
    {
      "cell_type": "code",
      "source": [
        "# write your answer here\n",
        "first= input('enter first  : ')\n",
        "second = input('enter the second value : ')\n",
        "first, second =  second,first\n",
        "print(first,',', second)"
      ],
      "metadata": {
        "id": "4XvRknixTh1g",
        "colab": {
          "base_uri": "https://localhost:8080/"
        },
        "outputId": "ac1aabd9-535e-4732-bddc-b3f5d2c920f1"
      },
      "execution_count": 91,
      "outputs": [
        {
          "output_type": "stream",
          "name": "stdout",
          "text": [
            "enter first  : 10\n",
            "enter the second value : 11\n",
            "11 , 10\n"
          ]
        }
      ]
    },
    {
      "cell_type": "markdown",
      "metadata": {
        "id": "03jb4GZsBkBS"
      },
      "source": [
        "(3) Write a Python script to determine and print the length of a user-input string."
      ]
    },
    {
      "cell_type": "code",
      "execution_count": 92,
      "metadata": {
        "id": "YaGLbSHHB8Ej",
        "colab": {
          "base_uri": "https://localhost:8080/"
        },
        "outputId": "9f56e0aa-bfa5-4555-9a10-96a01c751419"
      },
      "outputs": [
        {
          "name": "stdout",
          "output_type": "stream",
          "text": [
            "enter the string :gfgjsdf\n"
          ]
        },
        {
          "output_type": "execute_result",
          "data": {
            "text/plain": [
              "7"
            ]
          },
          "metadata": {},
          "execution_count": 92
        }
      ],
      "source": [
        "# write your answer here\n",
        "input_string= input('enter the string :')\n",
        "len(input_string)"
      ]
    },
    {
      "cell_type": "markdown",
      "metadata": {
        "id": "jJDe71iLB616"
      },
      "source": [
        "(4) Construct a Python program that counts and displays the occurrences of each character in a given string.\n",
        "\n",
        "Sample String: 'openai.ai',\n",
        "\n",
        "Expected Result: {'a': 2, 'i': 2, '.': 1, 'o': 1, 'p': 1, 'e': 1, 'n': 1}"
      ]
    },
    {
      "cell_type": "code",
      "execution_count": null,
      "metadata": {
        "id": "MtKskTzbCLaU",
        "colab": {
          "base_uri": "https://localhost:8080/"
        },
        "outputId": "976ae0d4-dd14-47e2-ea1d-81dcb7eea7ed"
      },
      "outputs": [
        {
          "output_type": "stream",
          "name": "stdout",
          "text": [
            "Enter the value of the string : aerdtsewaewsdtsr\n",
            "occurrences of each character in a given string is :  {'a': 2, 'e': 3, 'r': 2, 'd': 2, 't': 2, 's': 3, 'w': 2}\n"
          ]
        }
      ],
      "source": [
        "input_string =input(\"Enter the value of the string : \")\n",
        "Letter_count={}\n",
        "for i in input_string:\n",
        "  if i in Letter_count:\n",
        "    Letter_count[i]+=1\n",
        "  else:\n",
        "    Letter_count[i]=1\n",
        "print ('occurrences of each character in a given string is : ',Letter_count)\n"
      ]
    },
    {
      "cell_type": "markdown",
      "metadata": {
        "id": "55W9AMdXCSpV"
      },
      "source": [
        "(5) Design a Python code to calculate the sum of all elements in a user-provided list."
      ]
    },
    {
      "cell_type": "code",
      "execution_count": null,
      "metadata": {
        "id": "I57NXsauCec2",
        "colab": {
          "base_uri": "https://localhost:8080/"
        },
        "outputId": "d6fb8cde-98b5-469a-8900-e0209f6e1ff5"
      },
      "outputs": [
        {
          "output_type": "stream",
          "name": "stdout",
          "text": [
            "Enter elements of the list separated by space: 45678\n",
            "Entered list: ['4', '5', '6', '7', '8']\n"
          ]
        },
        {
          "output_type": "execute_result",
          "data": {
            "text/plain": [
              "30"
            ]
          },
          "metadata": {},
          "execution_count": 1
        }
      ],
      "source": [
        "# write your answer here\n",
        "user_input = input('Enter elements of the list separated by space: ')\n",
        "int_list=[]\n",
        "# Convert the input string to a list\n",
        "user_list = (list(user_input))\n",
        "print('Entered list:', user_list)\n",
        "for item in user_list:\n",
        "  int_list.append(int(item))\n",
        "\n",
        "sum(int_list)\n"
      ]
    },
    {
      "cell_type": "markdown",
      "metadata": {
        "id": "4ulBZ6yhCi9F"
      },
      "source": [
        "(6) Write a Python program that modifies a given string by replacing all occurrences of its first character with '$', excluding the first character itself.\n",
        "\n",
        "\n",
        "Sample String : 'restart‘,\n",
        "\n",
        "Expected Result : 'resta\\$t'"
      ]
    },
    {
      "cell_type": "code",
      "execution_count": 93,
      "metadata": {
        "id": "Fj0XhwbBCw2o",
        "colab": {
          "base_uri": "https://localhost:8080/",
          "height": 53
        },
        "outputId": "f32c207b-d1e0-479f-dd35-eefb38fe45a1"
      },
      "outputs": [
        {
          "name": "stdout",
          "output_type": "stream",
          "text": [
            "the string that needs to be modified is : vhjadsbhjvd\n"
          ]
        },
        {
          "output_type": "execute_result",
          "data": {
            "text/plain": [
              "'$hjadsbhj$d'"
            ],
            "application/vnd.google.colaboratory.intrinsic+json": {
              "type": "string"
            }
          },
          "metadata": {},
          "execution_count": 93
        }
      ],
      "source": [
        "# write your answer here\n",
        "input_string=input('the string that needs to be modified is : ')\n",
        "mod_letter=input_string[0]\n",
        "mod_string=input_string.replace(mod_letter,'$')\n",
        "mod_string"
      ]
    },
    {
      "cell_type": "markdown",
      "source": [
        "(7) Write a Python program using a while loop to compute the factorial of a user-supplied number."
      ],
      "metadata": {
        "id": "qVXA3q7ET5JI"
      }
    },
    {
      "cell_type": "code",
      "source": [
        "n = input('Number given to find the factorial: ')\n",
        "n = int(n)\n",
        "factorial = 1\n",
        "\n",
        "while n > 0:\n",
        "    factorial *= n\n",
        "    n -= 1\n",
        "\n",
        "print(factorial)\n",
        "\n"
      ],
      "metadata": {
        "id": "Lbt7R6UkT7BA",
        "colab": {
          "base_uri": "https://localhost:8080/"
        },
        "outputId": "be635cff-a83c-41b4-f4b4-b6c2a0f21e0a"
      },
      "execution_count": null,
      "outputs": [
        {
          "output_type": "stream",
          "name": "stdout",
          "text": [
            "Number given to find the factorial: 6\n",
            "720\n"
          ]
        }
      ]
    },
    {
      "cell_type": "markdown",
      "source": [
        "(8) Create a program that accepts a list of numbers as input and outputs a new list containing only the even numbers."
      ],
      "metadata": {
        "id": "6YfbzXMNT--R"
      }
    },
    {
      "cell_type": "code",
      "source": [
        "# write your answer here\n",
        "int_list=[1,2,4,3,9,7,6]\n",
        "even_List=[]\n",
        "for i in int_list:\n",
        "  if i%2==0:\n",
        "    even_List.append(i)\n",
        "even_List"
      ],
      "metadata": {
        "id": "54q7wMQPUAKu",
        "colab": {
          "base_uri": "https://localhost:8080/"
        },
        "outputId": "77143c24-3976-49ea-c4a7-4e11038890de"
      },
      "execution_count": null,
      "outputs": [
        {
          "output_type": "execute_result",
          "data": {
            "text/plain": [
              "[2, 4, 6]"
            ]
          },
          "metadata": {},
          "execution_count": 15
        }
      ]
    },
    {
      "cell_type": "markdown",
      "metadata": {
        "id": "_bIP7s1MCzue"
      },
      "source": [
        "\n",
        "(9) Design a Python function to check if a number is prime.\n"
      ]
    },
    {
      "cell_type": "code",
      "source": [
        "def prime_number(n):\n",
        "    if n == 0 or n == 1:\n",
        "        return False\n",
        "    elif n > 1:\n",
        "        for i in range(2, int(n**0.5) + 1):\n",
        "            if n % i == 0:\n",
        "                return False\n",
        "        return True\n",
        "\n",
        "def print_prime(n):\n",
        "    if prime_number(n):\n",
        "        print(f'The number {n} is a prime number.')\n",
        "    else:\n",
        "        print(f'The number {n} is not a prime number.')\n",
        "\n",
        "n = int(input(\"Enter the value of number: \"))\n",
        "print_prime(n)"
      ],
      "metadata": {
        "colab": {
          "base_uri": "https://localhost:8080/"
        },
        "id": "EK509hkRVrgZ",
        "outputId": "e382f6ea-120b-4764-862c-c9b028654876"
      },
      "execution_count": null,
      "outputs": [
        {
          "output_type": "stream",
          "name": "stdout",
          "text": [
            "Enter the value of number: 1\n",
            "The number 1 is not a prime number.\n"
          ]
        }
      ]
    },
    {
      "cell_type": "markdown",
      "metadata": {
        "id": "xCa2bK9aD4Q3"
      },
      "source": [
        "(10) Write a Python program to concatenate following dictionaries to create a new one.\n",
        "\n",
        "Sample Dictionary : dic1={1:10, 2:20}, dic2={3:30, 4:40}, dic3={5:50,6:60},\n",
        "\n",
        "Expected Result : {1: 10, 2: 20, 3: 30, 4: 40, 5: 50, 6: 60}\n"
      ]
    },
    {
      "cell_type": "code",
      "execution_count": null,
      "metadata": {
        "id": "_z4aLqAbEET1",
        "colab": {
          "base_uri": "https://localhost:8080/"
        },
        "outputId": "7a6d56a5-4835-43fa-d4ed-132bd8286d29"
      },
      "outputs": [
        {
          "output_type": "execute_result",
          "data": {
            "text/plain": [
              "{1: 10, 2: 20, 3: 30, 4: 40, 5: 50, 6: 60}"
            ]
          },
          "metadata": {},
          "execution_count": 43
        }
      ],
      "source": [
        "# write your answer here\n",
        "dic1={1:10, 2:20}\n",
        "dic2={3:30, 4:40}\n",
        "dic3={5:50,6:60}\n",
        "\n",
        "dic4 = {**dic1, **dic2, **dic3}\n",
        "dic4"
      ]
    },
    {
      "cell_type": "markdown",
      "source": [
        "(11) Design a Python function that takes a tuple of integers as input and returns the largest and smallest elements."
      ],
      "metadata": {
        "id": "bkyZ2xSZUOst"
      }
    },
    {
      "cell_type": "code",
      "source": [
        "# write your answer here\n",
        "def Large_Small(n):\n",
        "  return (max(n), min(n))\n",
        "\n",
        "n=tuple(map(int, input('Enter the values of the tuple separated by space: ').split()))\n",
        "Result=Large_Small(n)\n",
        "print('the maximum value of the tuple is', Result[0])\n",
        "print('the minimum value of the tuple is', Result[1])"
      ],
      "metadata": {
        "id": "3FdLRBKOUQEd",
        "colab": {
          "base_uri": "https://localhost:8080/"
        },
        "outputId": "365c2626-7306-405e-bda0-7e4264a42005"
      },
      "execution_count": null,
      "outputs": [
        {
          "output_type": "stream",
          "name": "stdout",
          "text": [
            "Enter the values of the tuple separated by space: 1 2 3 4 5 6\n",
            "the maximum value of the tuple is 6\n",
            "the minimum value of the tuple is 1\n"
          ]
        }
      ]
    },
    {
      "cell_type": "markdown",
      "source": [
        "(12) Write a Python program that counts the frequency of each character in a given string and stores it in a dictionary."
      ],
      "metadata": {
        "id": "O0TVi3gKUTpp"
      }
    },
    {
      "cell_type": "code",
      "source": [
        "# write your answer here\n",
        "input_string =input(\"Enter the value of the string : \")\n",
        "Letter_count={}\n",
        "for i in input_string:\n",
        "  if i in Letter_count:\n",
        "    Letter_count[i]+=1\n",
        "  else:\n",
        "    Letter_count[i]=1\n",
        "print ('occurrences of each character in a given string is : ',Letter_count)\n",
        "type(Letter_count)"
      ],
      "metadata": {
        "id": "lAtfSfZXUU-h",
        "colab": {
          "base_uri": "https://localhost:8080/"
        },
        "outputId": "f6ad7a94-5f0b-493b-9fab-3920b078e2b3"
      },
      "execution_count": null,
      "outputs": [
        {
          "output_type": "stream",
          "name": "stdout",
          "text": [
            "Enter the value of the string : hasdieihdue\n",
            "occurrences of each character in a given string is :  {'h': 2, 'a': 1, 's': 1, 'd': 2, 'i': 2, 'e': 2, 'u': 1}\n"
          ]
        },
        {
          "output_type": "execute_result",
          "data": {
            "text/plain": [
              "dict"
            ]
          },
          "metadata": {},
          "execution_count": 51
        }
      ]
    },
    {
      "cell_type": "markdown",
      "metadata": {
        "id": "0v48Vqa7FrQh"
      },
      "source": [
        "(13) Implement a Python script to identify duplicate elements in a provided array of integers. Return -1 if there are no duplicates."
      ]
    },
    {
      "cell_type": "code",
      "source": [
        "def finding_duplicates(input_array):\n",
        "    duplicate_values = []\n",
        "    seen_elements = []\n",
        "    for element in input_array:\n",
        "        if element in seen_elements and element not in duplicate_values:\n",
        "            duplicate_values.append(element)\n",
        "        else:\n",
        "            seen_elements.append(element)\n",
        "    return duplicate_values\n",
        "input_array = [1, 2, 4, 3]\n",
        "result = finding_duplicates(input_array)\n",
        "if result==[]:\n",
        "  print('-1')\n",
        "else:\n",
        "  print(result)"
      ],
      "metadata": {
        "colab": {
          "base_uri": "https://localhost:8080/"
        },
        "id": "2GIuJXR6jiX-",
        "outputId": "49b56e47-bfa8-4027-9897-3692c0e39897"
      },
      "execution_count": 104,
      "outputs": [
        {
          "output_type": "stream",
          "name": "stdout",
          "text": [
            "-1\n"
          ]
        }
      ]
    },
    {
      "cell_type": "markdown",
      "metadata": {
        "id": "vD5PYLMuGga_"
      },
      "source": [
        "(14) Write a Python script to find the common elements between two lists."
      ]
    },
    {
      "cell_type": "code",
      "execution_count": null,
      "metadata": {
        "id": "t0D5kdJUGjjw",
        "colab": {
          "base_uri": "https://localhost:8080/"
        },
        "outputId": "fd7b2fc3-2bfa-4936-cf71-56f0357a856b"
      },
      "outputs": [
        {
          "output_type": "execute_result",
          "data": {
            "text/plain": [
              "{2, 3, 4}"
            ]
          },
          "metadata": {},
          "execution_count": 60
        }
      ],
      "source": [
        "# write your answer here\n",
        "list1=[3,4,3,2,2]\n",
        "list2=[4,3,2,6]\n",
        "result=set(list1).intersection(list2)\n",
        "result\n"
      ]
    },
    {
      "cell_type": "markdown",
      "metadata": {
        "id": "uHkd-y5VhVWC"
      },
      "source": [
        "(15) Write a Python program to randomly divide the students in this class into six groups for term projects, each group should have at least 4 students but no more than 6 students (including 6).\n",
        "\n",
        "Here is the students list:\n",
        "\n",
        "student_list_spring_2024=[rb0846,\n",
        "ac1964,\n",
        "hc0612,\n",
        "md0912,\n",
        "ad1198,\n",
        "md0894,\n",
        "md0825,\n",
        "vg0598,\n",
        "vg0433,\n",
        "mh1068,\n",
        "yj0173,\n",
        "pk0553,\n",
        "tk0411,\n",
        "srk0204,\n",
        "sk2922,\n",
        "sk2936,\n",
        "mk1302,\n",
        "mk1317,\n",
        "tk0412,\n",
        "vk0656,\n",
        "sm2985,\n",
        "mm2372,\n",
        "un0045,\n",
        "an0892,\n",
        "sn0913,\n",
        "gp0252,\n",
        "ap1484,\n",
        "mr1765,\n",
        "sr1385,\n",
        "sr1335,\n",
        "hs0665,\n",
        "ms2060,\n",
        "gt0217,\n",
        "nt0385,\n",
        "tv0186,\n",
        "sv1394,\n",
        "sv1752,\n",
        "sv1555,\n",
        "sy0594\n",
        "]\n"
      ]
    },
    {
      "cell_type": "code",
      "source": [
        "import random\n",
        "\n",
        "n = 6\n",
        "student_list = ['rb0846', 'ac1964', 'hc0612', 'md0912', 'ad1198', 'md0894', 'md0825', 'vg0598', 'vg0433', 'mh1068', 'yj0173', 'pk0553', 'tk0411', 'srk0204', 'sk2922', 'sk2936', 'mk1302', 'mk1317', 'tk0412', 'vk0656', 'sm2985', 'mm2372', 'un0045', 'an0892', 'sn0913', 'gp0252', 'ap1484', 'mr1765', 'sr1385', 'sr1335', 'hs0665', 'ms2060', 'gt0217', 'nt0385', 'tv0186', 'sv1394', 'sv1752', 'sv1555', 'sy0594']\n",
        "random.shuffle(student_list)\n",
        "for i in range(n):\n",
        "    size_k = random.randint(4, 6)\n",
        "    group = student_list[:size_k]\n",
        "    student_list = student_list[size_k:]\n",
        "    print(group)\n"
      ],
      "metadata": {
        "colab": {
          "base_uri": "https://localhost:8080/"
        },
        "id": "QltYTkDWthVI",
        "outputId": "78e29e2e-7635-4839-c6cd-3b82c82ab026"
      },
      "execution_count": null,
      "outputs": [
        {
          "output_type": "stream",
          "name": "stdout",
          "text": [
            "['gp0252', 'tk0411', 'yj0173', 'ap1484', 'mk1302']\n",
            "['vk0656', 'ms2060', 'mr1765', 'pk0553', 'sr1385', 'ac1964']\n",
            "['hc0612', 'sk2936', 'md0894', 'sn0913']\n",
            "['sy0594', 'md0912', 'tv0186', 'nt0385', 'sr1335', 'un0045']\n",
            "['mk1317', 'sm2985', 'an0892', 'md0825', 'sv1394', 'vg0598']\n",
            "['sv1555', 'hs0665', 'tk0412', 'srk0204']\n"
          ]
        }
      ]
    },
    {
      "cell_type": "markdown",
      "metadata": {
        "id": "fmZ9vX20Qs3d"
      },
      "source": [
        "(16) Create a program that takes a positive integer 'n' as input and prints the count of even numbers from 1 to 'n'. Optimize the loop using the break statement."
      ]
    },
    {
      "cell_type": "code",
      "execution_count": null,
      "metadata": {
        "id": "W8Jw6sWMQs3d",
        "colab": {
          "base_uri": "https://localhost:8080/"
        },
        "outputId": "758d5ddb-7d5f-4c5a-b4ae-1bb494333f9d"
      },
      "outputs": [
        {
          "output_type": "stream",
          "name": "stdout",
          "text": [
            "enter the value of n : 5\n",
            "count of the even numbers in the given range of numbers is :  2\n"
          ]
        }
      ],
      "source": [
        "# write your answer here\n",
        "n=abs(int(input('enter the value of n : ')))\n",
        "count=0\n",
        "for i in range(n):\n",
        "  if (i+1) % 2==0:\n",
        "    count+=1;\n",
        "  if i>=n:\n",
        "    break;\n",
        "print('count of the even numbers in the given range of numbers is : ',count)"
      ]
    },
    {
      "cell_type": "markdown",
      "metadata": {
        "id": "hvq4APMhQs3d"
      },
      "source": [
        "(17) Develop a Python function called 'count_vowels' that takes a string as input and returns the count of vowels (both lowercase and uppercase) present in the string, ignoring spaces and non-alphabetic characters."
      ]
    },
    {
      "cell_type": "code",
      "execution_count": null,
      "metadata": {
        "id": "ZnoxhSglQs3d",
        "colab": {
          "base_uri": "https://localhost:8080/"
        },
        "outputId": "e17da2b7-7a7a-4777-da97-9c51c0482290"
      },
      "outputs": [
        {
          "output_type": "stream",
          "name": "stdout",
          "text": [
            "Enter the input string : aefchjhjouhgv\n",
            "count of vowels in the given string:  4\n"
          ]
        }
      ],
      "source": [
        "# write your answer here\n",
        "def count_vowels(in_str):\n",
        "  count =0\n",
        "  vowel_List = ['a','e','i','o','u','A','E','I','O','U']\n",
        "  for i in in_str:\n",
        "    if i in vowel_List:\n",
        "      count+=1\n",
        "  return count;\n",
        "in_str=input('Enter the input string : ')\n",
        "result=count_vowels(in_str)\n",
        "print('count of vowels in the given string: ',result)\n"
      ]
    },
    {
      "cell_type": "markdown",
      "source": [
        "(18) Create a custom exception named ValueTooSmallError in Python. Write a program that takes user input for an age, and if the entered age is less than 18, raise the ValueTooSmallError with an appropriate error message."
      ],
      "metadata": {
        "id": "55FWoSJPVVM6"
      }
    },
    {
      "cell_type": "code",
      "source": [
        "# write your answer here\n",
        "def categ_age(age):\n",
        "    if age < 18:\n",
        "        raise ValueError(\"Age must be 18 or older.\")\n",
        "    else:\n",
        "        print(\"Entered Age is:\", age)\n",
        "\n",
        "try:\n",
        "    input_age = int(input(\"Enter your age: \"))\n",
        "    categ_age(input_age)\n",
        "except ValueError as error:\n",
        "    print(f\"Error: {error}\")\n"
      ],
      "metadata": {
        "id": "hwtr1wZmVX5A",
        "colab": {
          "base_uri": "https://localhost:8080/"
        },
        "outputId": "8bb8a794-a2ca-45b7-b04a-2f61bf155ed1"
      },
      "execution_count": 96,
      "outputs": [
        {
          "output_type": "stream",
          "name": "stdout",
          "text": [
            "Enter your age: 17\n",
            "Error: Age must be 18 or older.\n"
          ]
        }
      ]
    },
    {
      "cell_type": "markdown",
      "source": [
        "(19) Develop a script that reverses a given string without using built-in reverse functions."
      ],
      "metadata": {
        "id": "Q9ecagcaVazW"
      }
    },
    {
      "cell_type": "code",
      "source": [
        "# write your answer here\n",
        "def script_reverse(input_str):\n",
        "    rev = \"\"\n",
        "    for i in input_str:\n",
        "        rev = i + rev\n",
        "    return rev\n",
        "input_str = input('Enter the string to be reversed : ')\n",
        "print(\"The reversed string(using loops) is : \", end=\"\")\n",
        "print(script_reverse(input_str))"
      ],
      "metadata": {
        "id": "gycgckoAVZjR",
        "colab": {
          "base_uri": "https://localhost:8080/"
        },
        "outputId": "27c53fdb-7168-43d1-f2ec-d891974dbb24"
      },
      "execution_count": 95,
      "outputs": [
        {
          "output_type": "stream",
          "name": "stdout",
          "text": [
            "Enter the string to be reversed : tangles\n",
            "The reversed string(using loops) is : selgnat\n"
          ]
        }
      ]
    },
    {
      "cell_type": "markdown",
      "source": [
        "(20) Implement a Python script to generate a random password of a specified length."
      ],
      "metadata": {
        "id": "ZFG6RibifMLu"
      }
    },
    {
      "cell_type": "code",
      "source": [
        "# write your answer here\n",
        "import random\n",
        "import string\n",
        "def password_generation(n):\n",
        "    characters = string.ascii_letters + string.digits + string.punctuation\n",
        "    password = ''.join(random.choice(characters) for _ in range(n))\n",
        "    return password\n",
        "# Example usage\n",
        "pass_len = int(input(\"Enter the length of the password: \"))\n",
        "if pass_len <= 0:\n",
        "    print(\"Invalid password length. Please enter a positive integer.\")\n",
        "else:\n",
        "    random_password = password_generation(pass_len)\n",
        "    print(\"Randomly Generated Password :\", random_password)"
      ],
      "metadata": {
        "id": "BFVrkEi9fNiD",
        "colab": {
          "base_uri": "https://localhost:8080/"
        },
        "outputId": "21c80a51-df76-4499-9958-6bf67b3d7c32"
      },
      "execution_count": 94,
      "outputs": [
        {
          "output_type": "stream",
          "name": "stdout",
          "text": [
            "Enter the length of the password: 9\n",
            "Randomly Generated Password : 1i\\Ho0?[$\n"
          ]
        }
      ]
    },
    {
      "cell_type": "markdown",
      "source": [
        "# Try these questions:"
      ],
      "metadata": {
        "id": "6SmvS7nSfbj8"
      }
    },
    {
      "cell_type": "markdown",
      "source": [
        "(21) Define a base class called 'Vehicle' with attributes make and model. Create a derived class Car that inherits from Vehicle and has an additional attribute 'num_doors'. Demonstrate an example of creating an instance of the 'Car' class and accessing its attributes."
      ],
      "metadata": {
        "id": "cboAr5pEWUf5"
      }
    },
    {
      "cell_type": "code",
      "source": [
        "# write your answer here\n"
      ],
      "metadata": {
        "id": "phs9gciMWWAW"
      },
      "execution_count": null,
      "outputs": []
    },
    {
      "cell_type": "markdown",
      "source": [
        "(22) Create a class called 'Shape' with a method calculate_area(). Implement two derived classes 'Circle' and 'Rectangle' that inherit from Shape and override the calculate_area() method. Demonstrate polymorphism by creating instances of both derived classes and calling the calculate_area() method."
      ],
      "metadata": {
        "id": "J8HHefNtePwd"
      }
    },
    {
      "cell_type": "code",
      "source": [
        "# write your answer here"
      ],
      "metadata": {
        "id": "btnMmUZDeRhS"
      },
      "execution_count": null,
      "outputs": []
    },
    {
      "cell_type": "markdown",
      "source": [
        "(23) Write a Python program that prompts the user to enter two numbers and perform a division operation. Handle exceptions for both zero division and invalid input (non-numeric input). Display appropriate error messages for each type of exception and ensure the program does not crash due to these errors."
      ],
      "metadata": {
        "id": "z0oqEAlTeMUS"
      }
    },
    {
      "cell_type": "code",
      "source": [
        "# write your answer here"
      ],
      "metadata": {
        "id": "yjdc1zM1eMAs"
      },
      "execution_count": null,
      "outputs": []
    },
    {
      "cell_type": "markdown",
      "source": [
        "# Mandatory Question"
      ],
      "metadata": {
        "id": "sZOhks1dXWEe"
      }
    },
    {
      "cell_type": "markdown",
      "source": [
        "**Important:**\n",
        "Reflecting on the first three lectures and the exercises you've completed, please provide feedback on your learning experience. Share your thoughts on whether the material covered was clear, the exercises were helpful, and if you feel more confident in applying Python programming concepts. Additionally, mention any specific areas where you would like more clarification or topics you would like to explore further in future lectures. Your feedback is valuable in shaping the course for an effective learning journey."
      ],
      "metadata": {
        "id": "eqmHVEwaWhbV"
      }
    },
    {
      "cell_type": "markdown",
      "source": [
        "Write your response here."
      ],
      "metadata": {
        "id": "HlpXOT9wXQAd"
      }
    },
    {
      "cell_type": "code",
      "source": [
        "#The learning experience is awsome for all the three weeks, the best part are the Inclass activities, as they stimulated my brain by letting use the knowledge i have gained through lectures and the study meterials provided in the course. I am actually little new to python language. Although i have worked on python in my previous courses its mostly on analysing and processing the data and there is no developement part involved. The meterials provided which included online blogs, git repositories and few youtube vedios as well. Though the given blogs doesent solve few of my doubts, i was able to find other similar websites that were helpful and i felt there is a lot to learn from the github, its cool to learn from others work as well. Yeah i felt there is lot more to learn. Overall, the learning meterials provided has coved all the directions of learning python basics and the exersises were intreguing and very helpful. I felt the topics were intresting like, the functions loops and NLP basics, however, the loops concept is little confusing for me and would like to have clear understanding of it furthermore, this can be achived even by solving more related exercises ar an aditional class just on loops."
      ],
      "metadata": {
        "id": "Dq2aOZU7XIke"
      },
      "execution_count": null,
      "outputs": []
    }
  ],
  "metadata": {
    "colab": {
      "provenance": []
    },
    "kernelspec": {
      "display_name": "Python 3 (ipykernel)",
      "language": "python",
      "name": "python3"
    },
    "language_info": {
      "codemirror_mode": {
        "name": "ipython",
        "version": 3
      },
      "file_extension": ".py",
      "mimetype": "text/x-python",
      "name": "python",
      "nbconvert_exporter": "python",
      "pygments_lexer": "ipython3",
      "version": "3.9.12"
    }
  },
  "nbformat": 4,
  "nbformat_minor": 0
}