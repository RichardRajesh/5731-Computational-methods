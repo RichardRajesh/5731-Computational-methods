{
  "cells": [
    {
      "cell_type": "markdown",
      "metadata": {
        "id": "view-in-github",
        "colab_type": "text"
      },
      "source": [
        "<a href=\"https://colab.research.google.com/github/RichardRajesh/5731-Computational-methods/blob/main/Bodas_Rajesh_Assignment_01.ipynb\" target=\"_parent\"><img src=\"https://colab.research.google.com/assets/colab-badge.svg\" alt=\"Open In Colab\"/></a>"
      ]
    },
    {
      "cell_type": "markdown",
      "metadata": {
        "id": "Ryk8D1Q4Wsrp"
      },
      "source": [
        "# **INFO5731 Assignment One**"
      ]
    },
    {
      "cell_type": "markdown",
      "source": [
        "This assignment includes range of programming tasks and data analysis exercises, aiming to enhance your Python skills and proficiency in string manipulation, numerical computations, and data science. Follow the instructions carefully and design well-structured Python programs to address each question.\n",
        "\n",
        "Late Submission will have a penalty of 10% reduction for each day after the deadline."
      ],
      "metadata": {
        "id": "qcP6re2g5A5r"
      }
    },
    {
      "cell_type": "markdown",
      "metadata": {
        "id": "JkzR8cFAyGik"
      },
      "source": [
        "# Question 1 (10 points).\n",
        "\n",
        "The formula that describes the volume V of a hemisphere with radius r is the following:\n",
        "\n",
        "$ V=\\frac{2}{3}\\ast\\ \\pi\\ast\\ r^3 $\n",
        "\n",
        "Write a program to calculate the value of V when r is in the range of even numbers from 1-20. Output the result in the following format:\n",
        "\n",
        "\tr\tV\n",
        "\t2\t…\n",
        "\t4\t…\n",
        "\t6\t…\n",
        "\t.\n",
        "\t.\n",
        "\t.\n",
        "\t20\t…\n"
      ]
    },
    {
      "cell_type": "code",
      "execution_count": null,
      "metadata": {
        "id": "jDyTKYs-yGit",
        "colab": {
          "base_uri": "https://localhost:8080/"
        },
        "outputId": "02e5607e-cb10-47d6-b3eb-0c21626d5e28"
      },
      "outputs": [
        {
          "output_type": "stream",
          "name": "stdout",
          "text": [
            "Enter the r value : 4\n",
            "4   8.377580409572781\n"
          ]
        }
      ],
      "source": [
        "# Your code here\n",
        "import math\n",
        "r=int(input(\"Enter the r value : \"))\n",
        "range_List=[2, 4, 6, 8, 10, 12, 14, 16, 18, 20]\n",
        "if r in range_List:\n",
        "    v=(2/3)*math.pi*r\n",
        "    print(r,' ',v)"
      ]
    },
    {
      "cell_type": "code",
      "source": [
        "# Your code here\n",
        "import math\n",
        "r=int(input(\"Enter the r value : \"))\n",
        "print('r',' ','v')\n",
        "range_List=[2, 4, 6, 8, 10, 12, 14, 16, 18, 20]\n",
        "if r in range_List:\n",
        "  for i in range_List:\n",
        "    v=(2/3)*math.pi*i\n",
        "    print(i,' ',v)"
      ],
      "metadata": {
        "colab": {
          "base_uri": "https://localhost:8080/"
        },
        "id": "T7afKLnfLZSx",
        "outputId": "e18e14f3-2912-49fe-971d-62d34b97712f"
      },
      "execution_count": null,
      "outputs": [
        {
          "output_type": "stream",
          "name": "stdout",
          "text": [
            "Enter the r value : 6\n",
            "r   v\n",
            "2   4.1887902047863905\n",
            "4   8.377580409572781\n",
            "6   12.566370614359172\n",
            "8   16.755160819145562\n",
            "10   20.94395102393195\n",
            "12   25.132741228718345\n",
            "14   29.321531433504735\n",
            "16   33.510321638291124\n",
            "18   37.69911184307752\n",
            "20   41.8879020478639\n"
          ]
        }
      ]
    },
    {
      "cell_type": "markdown",
      "metadata": {
        "id": "90_NR8c5XGWc"
      },
      "source": [
        "# Question 2 (20 points)\n",
        "\n",
        "(a) Write a Python program to generate a sequence of 12 random numbers falling within the range of 50 to 150.\n",
        "\n",
        "(b) Arrange the generated numbers in ascending order. Display the sorted list.\n",
        "\n",
        "(c) Extend the program to arrange the numbers in descending order as well. Present the sorted list accordingly.\n",
        "\n",
        "(d) Compute and output the average of the entire group of generated numbers.\n",
        "\n",
        "(e) Enhance the program to calculate and display the average of the first 6 numbers from both the ascending and descending sorted lists."
      ]
    },
    {
      "cell_type": "code",
      "execution_count": null,
      "metadata": {
        "id": "5QX6bJjGWXY9",
        "colab": {
          "base_uri": "https://localhost:8080/"
        },
        "outputId": "fd611f79-4f42-460f-94bd-3998592602f3"
      },
      "outputs": [
        {
          "output_type": "stream",
          "name": "stdout",
          "text": [
            "Ascending List:  [57, 74, 75, 85, 88, 100, 102, 102, 109, 114, 124, 132] \n",
            "Descending List: [132, 124, 114, 109, 102, 102, 100, 88, 85, 75, 74, 57]\n",
            "Average of Ascending List:  96.83333333333333 \n",
            "Average of Descending List: 96.83333333333333\n",
            "[57, 132, 74, 124, 75, 114, 85, 109, 88, 102, 100, 102]\n",
            "Average of first 6 numbers from both the sequences:  96.83333333333333\n"
          ]
        }
      ],
      "source": [
        "# Write code for each of the sub parts with proper comments.\n",
        "\n",
        "import random\n",
        "n=12\n",
        "num_ran=[]\n",
        "for i in range(n):\n",
        "  value=random.randint(50, 150)\n",
        "  num_ran.append(value)\n",
        "  #print(random.randint(50, 150))\n",
        "asc_ran=sorted(num_ran)\n",
        "desc_ran=sorted(num_ran,reverse=1)\n",
        "print(\"Ascending List: \" ,asc_ran, \"\\nDescending List:\",desc_ran)\n",
        "print(\"Average of Ascending List: \" ,sum(asc_ran)/len(asc_ran), \"\\nAverage of Descending List:\",sum(desc_ran)/len(desc_ran))\n",
        "six_List=[]\n",
        "for i in range(6):\n",
        "  six_List.append(asc_ran[i])\n",
        "  six_List.append(desc_ran[i])\n",
        "print(six_List)\n",
        "print('Average of first 6 numbers from both the sequences: ',sum(six_List)/len(six_List))"
      ]
    },
    {
      "cell_type": "markdown",
      "metadata": {
        "id": "1F_PZdH9Sh49"
      },
      "source": [
        "# Question 3 (20 points).\n",
        "\n",
        "Create a Python program that encompasses various string manipulation task:\n",
        "\n",
        "(a) Prompt the user to input two sentences.\n",
        "\n",
        "(b) Transform each sentence into a list, where each element corresponds to a word in the sentence. For example, if the sentences are \"Hello, how are you doing today?\" and \"This is an example sentence for the program!\"\n",
        "\n",
        "The program should output:\n",
        "['Hello', ',', 'how', 'are', 'you', 'doing', 'today', '?', 'This', 'is', 'an', 'example', 'sentence', 'for', 'the', 'program', '!']\n",
        "\n",
        "(c) Compare the two sentences. Print out a list of words that occur in both sentences.\n",
        "\n",
        "(d) Remove any punctuation from the sentence and print the sanitized sentences. It should remove at least the following characters, but it can remove more: period(“.”), comma (“,”), semicolon (“;”), and colon (“:”).\n",
        "\n",
        "(e) Count the number of vowels in each of the sentences. Print out each vowel and the occurrences  in the each of the two sentences separately, such as:\n",
        "\n",
        "Sentence1: a:2, e:2, i:0, etc.\n",
        "Sentence2: a:1, e:2, i:2, etc.\n",
        "\n",
        "Design a well-structured Python program to execute these tasks efficiently."
      ]
    },
    {
      "cell_type": "code",
      "execution_count": null,
      "metadata": {
        "id": "Y0oOSlsOS0cq",
        "colab": {
          "base_uri": "https://localhost:8080/"
        },
        "outputId": "47c9909f-b70d-4d08-da5d-c8abfc7247b5"
      },
      "outputs": [
        {
          "output_type": "stream",
          "name": "stderr",
          "text": [
            "[nltk_data] Downloading package punkt to /root/nltk_data...\n",
            "[nltk_data]   Package punkt is already up-to-date!\n"
          ]
        },
        {
          "output_type": "stream",
          "name": "stdout",
          "text": [
            "Enter the first statement : ersdtf ersdfgjhk sdfghj \n",
            "Enter the Second statement : sdfgh dfghj dfghj\n",
            "['ersdtf', 'ersdfgjhk', 'sdfghj']\n",
            "['sdfgh', 'dfghj', 'dfghj']\n",
            "Common words list :  []\n",
            "updated string without punctuations :  ersdtf ersdfgjhk sdfghj \n",
            "Sentence1: Occurrences for each vowel: {'A': 0, 'E': 0, 'I': 0, 'O': 0, 'U': 0, 'a': 0, 'e': 2, 'i': 0, 'o': 0, 'u': 0}\n",
            "Sentence2: Occurrences for each vowel: {'A': 0, 'E': 0, 'I': 0, 'O': 0, 'U': 0, 'a': 0, 'e': 0, 'i': 0, 'o': 0, 'u': 0}\n"
          ]
        }
      ],
      "source": [
        "# Your code here\n",
        "import nltk\n",
        "import string\n",
        "\n",
        "nltk.download('punkt')\n",
        "Stat1=input('Enter the first statement : ')\n",
        "Stat2=input('Enter the Second statement : ')\n",
        "list1 = nltk.word_tokenize(Stat1)\n",
        "list2 = nltk.word_tokenize(Stat2)\n",
        "print(list1, list2, sep='\\n')\n",
        "common_words=[]\n",
        "for i in list1:\n",
        "  for j in list2:\n",
        "    if i==j:\n",
        "      common_words.append(i)\n",
        "print(\"Common words list : \",list(set(common_words)))\n",
        "sanitized_String=\"\"\n",
        "for char in Stat1:\n",
        "    if char not in string.punctuation:\n",
        "        sanitized_String += char\n",
        "print('updated string without punctuations : ',sanitized_String)\n",
        "vowel_list = ['A', 'E', 'I', 'O', 'U', 'a', 'e', 'i', 'o', 'u']\n",
        "def count_all_vowels(sentence):\n",
        "    vowel_occurrences = {vowel: 0 for vowel in vowel_list}\n",
        "\n",
        "    for char in sentence:\n",
        "        if char in vowel_list:\n",
        "            vowel_occurrences[char] += 1\n",
        "\n",
        "    return vowel_occurrences\n",
        "\n",
        "state1_count = count_all_vowels(Stat1)\n",
        "state2_count = count_all_vowels(Stat2)\n",
        "\n",
        "# Print results for each sentence\n",
        "print(f'Sentence1: {state1_count}')\n",
        "print(f'Sentence2: {state2_count}')\n"
      ]
    },
    {
      "cell_type": "markdown",
      "source": [
        "# Question 4 (20 Points)"
      ],
      "metadata": {
        "id": "OP4-5qxAtInv"
      }
    },
    {
      "cell_type": "markdown",
      "source": [
        "Design and implement a simple command-line calculator program. The program should handle both integers and floating-point numbers.\n",
        "\n",
        "(a) Write program that takes a mathematical expression as input and evaluates it. The program should support addition, subtraction, multiplication, and division.\n",
        "\n",
        "(b) Extend the calculator to handle parentheses in mathematical expressions. Implement the necessary logic to evaluate expressions with nested parentheses.\n",
        "\n",
        "(c) Enhance your calculator to include additional mathematical operations such as exponentiation, square root, and modulus.\n",
        "\n",
        "(d) Implement error handling in the calculator program. Handle cases such as division by zero and invalid input expressions. Provide meaningful error messages.\n",
        "\n",
        "(e) Implement a command to exit the calculator."
      ],
      "metadata": {
        "id": "uzN4_hDptK9U"
      }
    },
    {
      "cell_type": "code",
      "source": [
        "# Your code here\n",
        "import math\n",
        "\n",
        "def mathemetical_evalution(expression):\n",
        "    try:\n",
        "        result = eval(expression)\n",
        "        return result\n",
        "    except ZeroDivisionError:\n",
        "        return \"Error: Division by zero is not allowed.\"\n",
        "    except Exception as e:\n",
        "        return f\"Error: {e}\"\n",
        "\n",
        "def calculator():\n",
        "    print(\"Supported operations: +, -, *, /, ** (exponentiation), sqrt (square root), % (modulus)\")\n",
        "    print(\"Type 'exit' to end the calculator.\")\n",
        "\n",
        "    while True:\n",
        "        user_input = input(\"Enter the mathematical expression: \")\n",
        "\n",
        "        if user_input.lower() == 'exit':\n",
        "            print(\"Thankyou for using calculator. Goodbye!\")\n",
        "            break\n",
        "\n",
        "        result = mathemetical_evalution(input)\n",
        "        print(f\"Result: {result}\\n\")\n",
        "\n",
        "if __name__ == \"__main__\":\n",
        "    calculator()\n",
        "\n"
      ],
      "metadata": {
        "id": "8nQnVxjJuYtu",
        "colab": {
          "base_uri": "https://localhost:8080/"
        },
        "outputId": "c985ba40-ecfc-4686-8b08-ee20a732793d"
      },
      "execution_count": null,
      "outputs": [
        {
          "output_type": "stream",
          "name": "stdout",
          "text": [
            "Supported operations: +, -, *, /, ** (exponentiation), sqrt (square root), % (modulus)\n",
            "Type 'exit' to end the calculator.\n",
            "Enter the mathematical expression: (5 + 3) * (2 / 4) + (7 - 2) ** 2\n",
            "Result: Error: eval() arg 1 must be a string, bytes or code object\n",
            "\n",
            "Enter the mathematical expression: exit\n",
            "Thankyou for using calculator. Goodbye!\n"
          ]
        }
      ]
    },
    {
      "cell_type": "markdown",
      "metadata": {
        "id": "z3tBE7E-Xn5X"
      },
      "source": [
        "# Question 5 (30 points).\n",
        "\n",
        "In the field of Data Science, data is often formatted as a comma-delimited (CSV) file, where each line in a file corresponds to a field's value. Refer to Chapter 9 (p. 106) for more information on comma-delimited files.\n",
        "\n",
        "To answer this question, you will need to download the file [Assignment1_denton_housing.csv](https://raw.githubusercontent.com/unt-iialab/info5731-spring2022/main/assignments/Assignment1_denton_housing.csv) included with this assignment. The file contains statistics about housing in the city of Denton from 2008 to 2014. Write a program to implement the following questions.\n",
        "\n",
        "(a) (5 pts) Calculate the difference in the number of Occupied Housing Units from year to year and print it. The difference must be calculated for the consecutive years such as 2008-2009, 2009-2010 etc. Finally, print the values in the ascending order.\n",
        "\n",
        "(b) (5 pts) For all the years, calculate the percentage of housing units which are vacant an occupied. Print the results in the following format:\n",
        "\n",
        "Year Vacant Housing Units Occupied Housing Units\n",
        "\n",
        "    2008  30%   70%                          \n",
        "\t2009 ----- -----\n",
        "\t2010 ----- -----\n",
        "    2011 ----- -----\n",
        "\t2012 ----- -----\n",
        "    2013 ----- -----\n",
        "\t2014 ----- -----\n",
        "  \n",
        "  \n",
        "\n",
        "(c) (10 pts) Calculate and print the valued and years in which the highest number of housing units were vacant and occupied. Print the results in the following format:  \n",
        "\n",
        "                              Year\tValue\n",
        "\tVacant Housing Units\t  -----   -----\n",
        "\tOccupied Housing Units\t-----   -----\n",
        "\n",
        "(d) (10 pts) Calculate the harmonic mean of the total housing units and print it out. You can find the information about harmonic mean here: https://ncalculators.com/statistics/harmonic-mean-calculator.htm"
      ]
    },
    {
      "cell_type": "code",
      "source": [
        "import csv\n",
        "from statistics import harmonic_mean\n",
        "\n",
        "def file_reading(Input_file):\n",
        "    with open(Input_file, 'r') as file:\n",
        "        reader = csv.reader(file)\n",
        "        header = next(reader, None)\n",
        "        Input_data = list(reader)\n",
        "    return header, Input_data\n",
        "\n",
        "def calculate_difference(Input_data, column_index):\n",
        "    differences = []\n",
        "    for i in range(1, len(Input_data)):\n",
        "        if len(Input_data[i]) > column_index and len(data[i-1]) > column_index:\n",
        "            year = int(Input_data[i][0])\n",
        "            difference = int(Input_data[i][column_index]) - int(Input_data[i-1][column_index])\n",
        "            differences.append((year - 1, year, difference))\n",
        "    return sorted(differences)\n",
        "\n",
        "def calculate_percentages(Input_data, vacant_column_index, occupied_column_index):\n",
        "    percentages = []\n",
        "    for row in Input_data:\n",
        "        if len(row) > vacant_column_index and len(row) > occupied_column_index:\n",
        "            year = int(row[0])\n",
        "            total_units = int(row[vacant_column_index]) + int(row[occupied_column_index])\n",
        "            vacant_percentage = (int(row[vacant_column_index]) / total_units) * 100\n",
        "            occupied_percentage = (int(row[occupied_column_index]) / total_units) * 100\n",
        "            percentages.append((year, vacant_percentage, occupied_percentage))\n",
        "    return percentages\n",
        "\n",
        "def find_max_value_and_year(Input_data, column_index):\n",
        "    if not Input_data or not Input_data[0]:\n",
        "        return None, None\n",
        "\n",
        "    max_values = [(int(row[column_index]), int(row[0])) for row in Input_data if len(row) > column_index and row[column_index].isdigit()]\n",
        "    if not max_values:\n",
        "        return None, None\n",
        "\n",
        "    max_value, max_year = max(max_values)\n",
        "    return max_year, max_value\n",
        "\n",
        "def calculate_harmonic_mean(Input_data, column_index):\n",
        "    values = [int(row[column_index]) for row in Input_data if len(row) > column_index and row[column_index].isdigit()]\n",
        "    return harmonic_mean(values) if values else None\n",
        "\n",
        "def print_results(header, results):\n",
        "    print(f'{header[0]:<6} {header[1]:<21} {header[2]:<21}')\n",
        "    for result in results:\n",
        "        print(f'{result[0]} {result[1]:.2f}% {result[2]:.2f}%')\n",
        "\n",
        "if __name__ == \"__main__\":\n",
        "    Input_file = 'Assignment1_denton_housing.csv'\n",
        "    header, Input_data = file_reading(Input_file)\n",
        "\n",
        "    if not header:\n",
        "        print(\"Error: CSV file has no header.\")\n",
        "    else:\n",
        "        # Check CSV Header\n",
        "        print(\"CSV Header:\", header)\n",
        "\n",
        "        # Check Input_data\n",
        "        print(\"Sample Input_data:\")\n",
        "        for row in Input_data[:5]:\n",
        "            print(row)\n",
        "\n",
        "        # Part (a)\n",
        "        occupied_diff = calculate_difference(Input_data, 5)\n",
        "        print(\"\\nOccupied Housing Units Difference:\")\n",
        "        for diff in occupied_diff:\n",
        "            print(f\"{diff[0]}-{diff[1]}: {diff[2]}\")\n",
        "\n",
        "        # Part (b)\n",
        "        percentages = calculate_percentages(Input_data, 2, 4)\n",
        "        print(\"\\nPercentage of Housing Units:\")\n",
        "        print_results(header, percentages)\n",
        "\n",
        "        # Part (c)\n",
        "        max_vacant_year, max_vacant_value = find_max_value_and_year(Input_data, 2)\n",
        "        max_occupied_year, max_occupied_value = find_max_value_and_year(Input_data, 4)\n",
        "\n",
        "        print(\"\\nMaximum Housing Units:\")\n",
        "        print(f'{header[2]:<26} {header[0]:<6} {header[1]:<6}')\n",
        "        print(f'Vacant Housing Units      {max_vacant_year or \"-----\":<6} {max_vacant_value or \"-----\":<6}')\n",
        "        print(f'Occupied Housing Units    {max_occupied_year or \"-----\":<6} {max_occupied_value or \"-----\":<6}')\n",
        "\n",
        "        # Part (d)\n",
        "        harmonic_mean_total_units = calculate_harmonic_mean(Input_data, 1)\n",
        "        print(\"\\nHarmonic Mean of Total Housing Units:\")\n",
        "        print(f'{harmonic_mean_total_units:.2f}' if harmonic_mean_total_units is not None else \"-----\")\n"
      ],
      "metadata": {
        "colab": {
          "base_uri": "https://localhost:8080/"
        },
        "id": "v_ZDVMh0Ime-",
        "outputId": "c36a9423-9076-43ff-bb1f-c1fb6ade88fe"
      },
      "execution_count": null,
      "outputs": [
        {
          "output_type": "stream",
          "name": "stdout",
          "text": [
            "CSV Header: ['year', 'title_field', 'value']\n",
            "Sample Data:\n",
            "['2014', 'Total Housing Units', '49109']\n",
            "['2014', 'Vacant Housing Units', '2814']\n",
            "['2014', 'Occupied Housing Units', '46295']\n",
            "['2013', 'Total Housing Units', '47888']\n",
            "['2013', 'Vacant Housing Units', '4215']\n",
            "\n",
            "Occupied Housing Units Difference:\n",
            "\n",
            "Percentage of Housing Units:\n",
            "year   title_field           value                \n",
            "\n",
            "Maximum Housing Units:\n",
            "value                      year   title_field\n",
            "Vacant Housing Units      2014   49109 \n",
            "Occupied Housing Units    -----  ----- \n",
            "\n",
            "Harmonic Mean of Total Housing Units:\n",
            "-----\n"
          ]
        }
      ]
    },
    {
      "cell_type": "markdown",
      "source": [
        "# Mandatory Question\n",
        "\n",
        "Provide your thoughts on the assignment. What did you find challenging, and what aspects did you enjoy? Your opinion on the provided time to complete the assignment. Share any suggestions for improvement. Your feedback will be valuable for enhancing the learning experience."
      ],
      "metadata": {
        "id": "q8BFCvWp32cf"
      }
    },
    {
      "cell_type": "code",
      "source": [
        "\n",
        "\"The assignment was very challenging, I enjoyed debugging the every line of code to get the expected result. I can write the basic code, but while\n",
        "satisfying the question requirements, I need to change the code in different ways. That made me go through various materials online and then finding various solutions\n",
        "their, then choosing the right option was challenging as well as intresting. There was a plenty of time that allowed me to solve the code without any pressure.\n",
        "I don't think I have any suggestions, beacuse the format was good to go.\"\n",
        "\n",
        "\n",
        "\n",
        "\n",
        "\n",
        "\n"
      ],
      "metadata": {
        "id": "_e557s2w4BpK",
        "colab": {
          "base_uri": "https://localhost:8080/",
          "height": 161
        },
        "outputId": "8f89770b-07f0-46f1-8f7c-4aeacf49efc5"
      },
      "execution_count": null,
      "outputs": [
        {
          "output_type": "error",
          "ename": "SyntaxError",
          "evalue": "unterminated string literal (detected at line 2) (<ipython-input-8-2dc227bd870e>, line 2)",
          "traceback": [
            "\u001b[0;36m  File \u001b[0;32m\"<ipython-input-8-2dc227bd870e>\"\u001b[0;36m, line \u001b[0;32m2\u001b[0m\n\u001b[0;31m    \"The assignment was very challenging, I enjoyed debugging the every line of code to get the expected result. I can write the basic code, but while\u001b[0m\n\u001b[0m    ^\u001b[0m\n\u001b[0;31mSyntaxError\u001b[0m\u001b[0;31m:\u001b[0m unterminated string literal (detected at line 2)\n"
          ]
        }
      ]
    }
  ],
  "metadata": {
    "colab": {
      "provenance": [],
      "include_colab_link": true
    },
    "kernelspec": {
      "display_name": "Python 3 (ipykernel)",
      "language": "python",
      "name": "python3"
    },
    "language_info": {
      "codemirror_mode": {
        "name": "ipython",
        "version": 3
      },
      "file_extension": ".py",
      "mimetype": "text/x-python",
      "name": "python",
      "nbconvert_exporter": "python",
      "pygments_lexer": "ipython3",
      "version": "3.9.12"
    }
  },
  "nbformat": 4,
  "nbformat_minor": 0
}